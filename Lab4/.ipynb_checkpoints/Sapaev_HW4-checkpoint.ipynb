{
 "cells": [
  {
   "cell_type": "code",
   "execution_count": 1,
   "metadata": {},
   "outputs": [],
   "source": [
    "import pandas as pd\n",
    "import html\n",
    "import re\n",
    "import requests\n",
    "import urllib\n",
    "import random\n",
    "\n",
    "from urllib.parse import urlparse\n",
    "from bs4 import BeautifulSoup\n",
    "from urllib.parse import urlparse\n",
    "from selenium import webdriver\n",
    "from time import sleep"
   ]
  },
  {
   "cell_type": "code",
   "execution_count": 2,
   "metadata": {},
   "outputs": [],
   "source": [
    "Main_site_url = 'https://www.chitai-gorod.ru'\n",
    "author_names = ['Фрай М.', 'Хантер Э.', 'Емец Д.']\n",
    "author_url_list = []\n",
    "card_ids = []"
   ]
  },
  {
   "cell_type": "code",
   "execution_count": 3,
   "metadata": {},
   "outputs": [],
   "source": [
    "def random_sleep(offset=1.5, length=4):\n",
    "    sleep(random.random() * length + offset)"
   ]
  },
  {
   "cell_type": "code",
   "execution_count": 4,
   "metadata": {},
   "outputs": [],
   "source": [
    "for author_name in author_names:\n",
    "    name = urllib.parse.quote(author_name, encoding='windows-1251')\n",
    "    author_url_list.append(Main_site_url + '/search/result.php?q=' + name + '&type=author')"
   ]
  },
  {
   "cell_type": "code",
   "execution_count": 5,
   "metadata": {
    "scrolled": false
   },
   "outputs": [],
   "source": [
    "for author_url in author_url_list:\n",
    "    with webdriver.Safari() as driver:\n",
    "        \n",
    "        driver.get(author_url)\n",
    "        random_sleep()\n",
    "        \n",
    "        items = driver.find_elements_by_class_name(\"count-result__value\")\n",
    "        for item in items:\n",
    "            albums = int(item.text)\n",
    "                \n",
    "        while len(driver.find_elements_by_class_name(\"product-card\")) != albums:\n",
    "            driver.execute_script(\"window.scrollTo(0, document.body.scrollHeight);\")\n",
    "            elem = driver.find_element_by_css_selector(\".js__show-more-cards\")\n",
    "            if elem:\n",
    "                try:\n",
    "                    elem.click()\n",
    "                    random_sleep()\n",
    "                except:\n",
    "                    random_sleep()\n",
    "\n",
    "        for i in driver.find_elements_by_class_name(\"product-card\"):\n",
    "            card_ids.append(i.get_attribute(\"data-product\"))\n",
    "\n",
    "        random_sleep(3)"
   ]
  },
  {
   "cell_type": "code",
   "execution_count": 6,
   "metadata": {},
   "outputs": [],
   "source": [
    "def Insert_props(info, soup):\n",
    "    tmp = soup.findAll('div', class_='product-prop')\n",
    "        \n",
    "    for i in tmp:\n",
    "        soup1 = BeautifulSoup(str(i), 'html.parser')\n",
    "        prop = soup1.find('div', class_='product-prop__title').text.strip()\n",
    "        prop_info = soup1.find('div', class_='product-prop__value').text.strip()\n",
    "        info[prop] = prop_info\n",
    "    return info"
   ]
  },
  {
   "cell_type": "code",
   "execution_count": 7,
   "metadata": {},
   "outputs": [],
   "source": [
    "def extract_book_info(card_id):\n",
    "\n",
    "    book_url_head = Main_site_url + '/catalog/book/'\n",
    "    book_url_tail = '/?watch_fromlist=search_result'\n",
    "    book_url = book_url_head + card_id + book_url_tail\n",
    "    \n",
    "    book_html = requests.get(book_url).text\n",
    "    soup = BeautifulSoup(book_html, 'html.parser')\n",
    "    \n",
    "    book_info = {\n",
    "        'ID карточки': card_id,\n",
    "        'Называние': soup.find('h1', class_='product__title js-analytic-product-title').text.strip(),\n",
    "        'Автор': soup.find('a', class_='link product__author').text.strip(),\n",
    "        'Рейтинг': float(soup.find('div', class_='rating').text.strip().split()[0]),\n",
    "        'Голоса': int(soup.find('div', class_='rating').text.strip().split()[1][1: -1]),\n",
    "        'Цена': int(soup.find('div', class_='price').text.strip()[:-1]) \n",
    "            if soup.find('div', class_='price') else None,\n",
    "    }\n",
    "\n",
    "    Insert_props(book_info, soup)\n",
    "\n",
    "    book_info['Обложка'] = soup.find('img', itemprop='image').get('src')\n",
    "    \n",
    "    random_sleep(0, 1)\n",
    "    return book_info"
   ]
  },
  {
   "cell_type": "code",
   "execution_count": null,
   "metadata": {},
   "outputs": [],
   "source": [
    "result = list(map(extract_book_info, card_ids))\n",
    "\n",
    "df = pd.DataFrame(result)\n",
    "df.sort_values(by='ID карточки', inplace=True)"
   ]
  },
  {
   "cell_type": "code",
   "execution_count": null,
   "metadata": {},
   "outputs": [],
   "source": [
    "df.head().T"
   ]
  },
  {
   "cell_type": "code",
   "execution_count": null,
   "metadata": {},
   "outputs": [],
   "source": [
    "with open('hw_4.csv', mode='w', encoding='utf-8') as f_csv:\n",
    "    df.to_csv(f_csv, index=False)"
   ]
  }
 ],
 "metadata": {
  "kernelspec": {
   "display_name": "Python 3",
   "language": "python",
   "name": "python3"
  },
  "language_info": {
   "codemirror_mode": {
    "name": "ipython",
    "version": 3
   },
   "file_extension": ".py",
   "mimetype": "text/x-python",
   "name": "python",
   "nbconvert_exporter": "python",
   "pygments_lexer": "ipython3",
   "version": "3.6.5"
  }
 },
 "nbformat": 4,
 "nbformat_minor": 2
}

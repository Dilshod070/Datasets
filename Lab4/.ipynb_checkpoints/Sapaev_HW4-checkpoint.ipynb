{
 "cells": [
  {
   "cell_type": "code",
   "execution_count": 59,
   "metadata": {},
   "outputs": [],
   "source": [
    "# Womework 4 Here\n",
    "import pandas as pd\n",
    "import html\n",
    "import re\n",
    "import requests\n",
    "import urllib\n",
    "\n",
    "from urllib.parse import urlparse\n",
    "from bs4 import BeautifulSoup\n",
    "from urllib.parse import urlparse\n",
    "from selenium import webdriver\n",
    "from time import sleep"
   ]
  },
  {
   "cell_type": "code",
   "execution_count": 60,
   "metadata": {},
   "outputs": [],
   "source": [
    "Main_site_url = 'https://www.chitai-gorod.ru'\n",
    "author_names = ['Фрай М.', 'Хантер Э.', 'Емец Д.']\n",
    "authir_url_list = []"
   ]
  },
  {
   "cell_type": "code",
   "execution_count": 61,
   "metadata": {},
   "outputs": [],
   "source": [
    "for author_name in author_names:\n",
    "    name = urllib.parse.quote(author_name, encoding='windows-1251')\n",
    "    authir_url_list.append(Main_site_url + '/search/result.php?q=' + name + '&type=author')"
   ]
  },
  {
   "cell_type": "code",
   "execution_count": null,
   "metadata": {},
   "outputs": [],
   "source": [
    "for author_url in authir_url_list:\n",
    "    with webdriver.Safari() as driver:\n",
    "        driver.get(author_url)\n",
    "        sleep(5)"
   ]
  },
  {
   "cell_type": "code",
   "execution_count": null,
   "metadata": {},
   "outputs": [],
   "source": []
  },
  {
   "cell_type": "code",
   "execution_count": null,
   "metadata": {},
   "outputs": [],
   "source": []
  },
  {
   "cell_type": "code",
   "execution_count": null,
   "metadata": {},
   "outputs": [],
   "source": []
  },
  {
   "cell_type": "code",
   "execution_count": 145,
   "metadata": {},
   "outputs": [],
   "source": [
    "book_url = 'https://www.chitai-gorod.ru/catalog/book/1034357/?watch_fromlist=search_result'"
   ]
  },
  {
   "cell_type": "code",
   "execution_count": 146,
   "metadata": {},
   "outputs": [],
   "source": [
    "book_html = requests.get(book_url).text"
   ]
  },
  {
   "cell_type": "code",
   "execution_count": 147,
   "metadata": {},
   "outputs": [],
   "source": [
    "soup = BeautifulSoup(book_html, 'html.parser')"
   ]
  },
  {
   "cell_type": "code",
   "execution_count": 148,
   "metadata": {},
   "outputs": [
    {
     "data": {
      "text/plain": [
       "{'ID карточки': '1034357',\n",
       " 'Называние': 'Вся эта кухня',\n",
       " 'Автор': 'Фрай М., Недорубова О.',\n",
       " 'Рейтинг': 0.0,\n",
       " 'Голоса': 0,\n",
       " 'Цена': 332,\n",
       " 'Обложка': 'https://img-gorod.ru/upload/iblock/b80/b8060ce9987eacbbb59907945cc07ca7.jpg'}"
      ]
     },
     "execution_count": 148,
     "metadata": {},
     "output_type": "execute_result"
    }
   ],
   "source": [
    "book_info = {\n",
    "    'ID карточки': book_url.split(sep='/')[5],\n",
    "    'Называние': soup.find('h1', class_='product__title js-analytic-product-title').text.strip(),\n",
    "    'Автор': soup.find('a', class_='link product__author').text.strip(),\n",
    "    'Рейтинг': float(soup.find('div', class_='rating').text.strip().split()[0]),\n",
    "    'Голоса': int(soup.find('div', class_='rating').text.strip().split()[1][1: -1]),\n",
    "    'Цена': int(soup.find('div', class_='price').text.strip()[:-1]),\n",
    "    # КАКИЕ-ТО ПОЛЯ\n",
    "    'Обложка': soup.find('img', itemprop='image').get('src'),\n",
    "}\n",
    "\n",
    "book_info"
   ]
  },
  {
   "cell_type": "code",
   "execution_count": 144,
   "metadata": {},
   "outputs": [
    {
     "data": {
      "text/plain": [
       "{'ID карточки': '1085970',\n",
       " 'Называние': 'Тяжелый свет Куртейна. Синий',\n",
       " 'Автор': 'Фрай М.',\n",
       " 'Рейтинг': 5.0,\n",
       " 'Голоса': 1,\n",
       " 'Цена': 374,\n",
       " 'Обложка': 'https://img-gorod.ru/upload/iblock/f32/f32014818952131c650f5cca116226be.jpg'}"
      ]
     },
     "execution_count": 144,
     "metadata": {},
     "output_type": "execute_result"
    }
   ],
   "source": []
  },
  {
   "cell_type": "code",
   "execution_count": null,
   "metadata": {},
   "outputs": [],
   "source": []
  }
 ],
 "metadata": {
  "kernelspec": {
   "display_name": "Python 3",
   "language": "python",
   "name": "python3"
  },
  "language_info": {
   "codemirror_mode": {
    "name": "ipython",
    "version": 3
   },
   "file_extension": ".py",
   "mimetype": "text/x-python",
   "name": "python",
   "nbconvert_exporter": "python",
   "pygments_lexer": "ipython3",
   "version": "3.6.5"
  }
 },
 "nbformat": 4,
 "nbformat_minor": 2
}

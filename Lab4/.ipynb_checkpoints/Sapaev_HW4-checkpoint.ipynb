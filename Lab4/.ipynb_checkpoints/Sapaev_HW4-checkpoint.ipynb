{
 "cells": [
  {
   "cell_type": "code",
   "execution_count": 1,
   "metadata": {},
   "outputs": [],
   "source": [
    "# Womework 4 Here\n",
    "import pandas as pd\n",
    "import html\n",
    "import requests\n",
    "import urllib\n",
    "\n",
    "from urllib.parse import urlparse\n",
    "from bs4 import BeautifulSoup\n",
    "from urllib.parse import urlparse\n",
    "from selenium import webdriver\n",
    "from time import sleep"
   ]
  },
  {
   "cell_type": "code",
   "execution_count": 2,
   "metadata": {},
   "outputs": [],
   "source": [
    "Main_site_url = 'https://www.chitai-gorod.ru'\n",
    "author_names = ['Фрай М.', 'Хантер Э.', 'Емец Д.']\n",
    "authir_url_list = []"
   ]
  },
  {
   "cell_type": "code",
   "execution_count": 3,
   "metadata": {},
   "outputs": [],
   "source": [
    "for author_name in author_names:\n",
    "    name = urllib.parse.quote(author_name, encoding='windows-1251')\n",
    "    authir_url_list.append(Main_site_url + '/search/result.php?q=' + name + '&type=author')"
   ]
  },
  {
   "cell_type": "code",
   "execution_count": 4,
   "metadata": {},
   "outputs": [],
   "source": [
    "for author_url in authir_url_list:\n",
    "    with webdriver.Safari() as driver:\n",
    "        driver.get(author_url)\n",
    "        sleep(5)"
   ]
  },
  {
   "cell_type": "code",
   "execution_count": null,
   "metadata": {},
   "outputs": [],
   "source": []
  }
 ],
 "metadata": {
  "kernelspec": {
   "display_name": "Python 3",
   "language": "python",
   "name": "python3"
  },
  "language_info": {
   "codemirror_mode": {
    "name": "ipython",
    "version": 3
   },
   "file_extension": ".py",
   "mimetype": "text/x-python",
   "name": "python",
   "nbconvert_exporter": "python",
   "pygments_lexer": "ipython3",
   "version": "3.6.5"
  }
 },
 "nbformat": 4,
 "nbformat_minor": 2
}

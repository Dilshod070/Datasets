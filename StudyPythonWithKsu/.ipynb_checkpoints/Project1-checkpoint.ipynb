{
 "cells": [
  {
   "cell_type": "markdown",
   "metadata": {},
   "source": [
    "# Калькулятор  \n",
    "(реализация с помощью рекурсивного спуска)"
   ]
  },
  {
   "cell_type": "markdown",
   "metadata": {},
   "source": [
    "***Как это будет работать?***  \n",
    "Вход: строка  \n",
    "Выход: вычисленное выражение или ошибка\n"
   ]
  },
  {
   "cell_type": "markdown",
   "metadata": {},
   "source": [
    "***Как он будет устроен?*** (в общих чертах, подробнее тебе надо будет самой придумать)  \n",
    "Класс калькулятор: медот - count(str)  \n",
    "\n",
    "Этот метод в 5(или меньше) этапов будет анализировать строку \n",
    "(мы будем делать в 2 или 3 прохода)\n",
    "+ Лексический анализ  \n",
    "+ Синтаксический анализ  \n",
    "+ Семантический анализ  \n",
    "+ Перевод во внутреннее представление  \n",
    "+ Вычисление  "
   ]
  },
  {
   "cell_type": "code",
   "execution_count": null,
   "metadata": {},
   "outputs": [],
   "source": [
    "# Примерное использование\n",
    "# K = Calculator()\n",
    "# K.count(\"1+2\")"
   ]
  },
  {
   "cell_type": "markdown",
   "metadata": {},
   "source": [
    "### Совсем немного про классы"
   ]
  },
  {
   "cell_type": "code",
   "execution_count": 14,
   "metadata": {},
   "outputs": [],
   "source": [
    "class Calculator():\n",
    "    # аттрибуты (но вообще не обязательно тут)\n",
    "    # self.expr = None # не обязательно\n",
    "    \n",
    "    #типа конструктор, деструктор не нужен\n",
    "    def __init__(self): # все медоды должны получать self как (первый) аргумент\n",
    "        # __медод__ -> стандартные методы типа конструкторов\n",
    "        # и перегрузеки операторов\n",
    "        # Про наследование не буду рассказывать, но есть super, чтобы обратиться к предку\n",
    "        self.Parser = Parser() # класс Parser сама напишешь\n",
    "        pass\n",
    "    \n",
    "    # Любой метод\n",
    "    def calculate(self, expr):\n",
    "        self.expr = expr # аттрибуты не обязательно сначала объявлять\n",
    "        # self.expr = self.analize(self.expr) # если пишешь в 3 прохода\n",
    "        self.Parser.parse(self.expr)\n",
    "        # ...\n",
    "        return result"
   ]
  },
  {
   "cell_type": "code",
   "execution_count": 11,
   "metadata": {},
   "outputs": [],
   "source": []
  },
  {
   "cell_type": "markdown",
   "metadata": {},
   "source": [
    "## Первый этап: Лексический анализ"
   ]
  },
  {
   "cell_type": "markdown",
   "metadata": {},
   "source": [
    "*** Можно сделать просто функцию или функцию-генератор - Analize(...)***  \n",
    "Вход: строка  \n",
    "Выход (простой случай): Список, составленный из лексемм (числе или знаков) ((три прохода))  \n",
    "Выход (сложнее): Объект(генератор), который при каждом обращении будет возвращать следующую лексемму ((два прохода))"
   ]
  },
  {
   "cell_type": "code",
   "execution_count": 10,
   "metadata": {},
   "outputs": [],
   "source": [
    "# Пример: \"1+ -2 * 222 ++\" -> [1, '+', '-', 2, '*', 222, '+', '+']\n",
    "# Я бы посоветовал сделать автомат, но возможно в питоне можно и легче придумать что-то\n",
    "# Пока все очень просто, только постарайся очень хорошо протестировать это все"
   ]
  },
  {
   "cell_type": "markdown",
   "metadata": {},
   "source": [
    "## Второй этап: Синтаксический анализ (рекурсивный спуск)"
   ]
  },
  {
   "cell_type": "markdown",
   "metadata": {},
   "source": [
    "*** Лучше сделать класс Parser и Analize() впихнуть в него как метод ***  \n",
    "Тогда наш Calculator будет содержать в себе Parser  \n",
    "  \n",
    "ю"
   ]
  },
  {
   "cell_type": "code",
   "execution_count": null,
   "metadata": {},
   "outputs": [],
   "source": []
  },
  {
   "cell_type": "code",
   "execution_count": null,
   "metadata": {},
   "outputs": [],
   "source": []
  }
 ],
 "metadata": {
  "kernelspec": {
   "display_name": "Python 3",
   "language": "python",
   "name": "python3"
  },
  "language_info": {
   "codemirror_mode": {
    "name": "ipython",
    "version": 3
   },
   "file_extension": ".py",
   "mimetype": "text/x-python",
   "name": "python",
   "nbconvert_exporter": "python",
   "pygments_lexer": "ipython3",
   "version": "3.6.5"
  }
 },
 "nbformat": 4,
 "nbformat_minor": 2
}

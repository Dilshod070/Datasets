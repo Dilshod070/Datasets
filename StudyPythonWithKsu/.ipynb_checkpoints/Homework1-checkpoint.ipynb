{
 "cells": [
  {
   "cell_type": "markdown",
   "metadata": {},
   "source": [
    " # Задание 1"
   ]
  },
  {
   "cell_type": "markdown",
   "metadata": {},
   "source": [
    "***немного про ноутбук:***\n",
    "* Чтобы быстро запустить код в клетке нажми Shift + Enter\n",
    "* Чтобы быстро разделить клети нажми Shift + Ctrl(Cmd) + '-'\n",
    "* * Можно создавать таким образом новые клетки если повтавить корсор конец(начало) предыдущей\n",
    "* Чтобы удалить клетку нажми Esc + 'X'"
   ]
  },
  {
   "cell_type": "markdown",
   "metadata": {},
   "source": [
    "***Написать функцию, для вычисления факториала целого числа***  \n",
    "* Подсказка: не забудь рассмотреть 0 и отрицательные числа"
   ]
  },
  {
   "cell_type": "code",
   "execution_count": 3,
   "metadata": {},
   "outputs": [],
   "source": [
    "# Your code here\n"
   ]
  },
  {
   "cell_type": "markdown",
   "metadata": {},
   "source": [
    "***Теперь попробуй позапускать на очень больших числах и посмотреть что будет***  \n",
    "Обязателньо чило, ответ которого не поместится в int, Подумай как это возможно (или спроси у меня если не поймешь)"
   ]
  },
  {
   "cell_type": "code",
   "execution_count": 4,
   "metadata": {},
   "outputs": [],
   "source": [
    "# Поле для экспериментов\n"
   ]
  },
  {
   "cell_type": "markdown",
   "metadata": {},
   "source": [
    "***Теперь само задание, реализовать функцию _exp(x), которая считает экспоненту  \n",
    "по формуле Тейлора (забыла => загугли)***  \n"
   ]
  },
  {
   "cell_type": "code",
   "execution_count": null,
   "metadata": {},
   "outputs": [],
   "source": [
    "# Your code here\n"
   ]
  }
 ],
 "metadata": {
  "kernelspec": {
   "display_name": "Python 3",
   "language": "python",
   "name": "python3"
  },
  "language_info": {
   "codemirror_mode": {
    "name": "ipython",
    "version": 3
   },
   "file_extension": ".py",
   "mimetype": "text/x-python",
   "name": "python",
   "nbconvert_exporter": "python",
   "pygments_lexer": "ipython3",
   "version": "3.6.5"
  }
 },
 "nbformat": 4,
 "nbformat_minor": 2
}

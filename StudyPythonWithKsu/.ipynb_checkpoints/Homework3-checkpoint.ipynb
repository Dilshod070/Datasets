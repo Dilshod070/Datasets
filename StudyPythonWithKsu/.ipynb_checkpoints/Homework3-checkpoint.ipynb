{
 "cells": [
  {
   "cell_type": "markdown",
   "metadata": {},
   "source": [
    "# Библиотеки Numpy, и немного Pandas"
   ]
  },
  {
   "cell_type": "code",
   "execution_count": 3,
   "metadata": {},
   "outputs": [],
   "source": [
    "import numpy as np\n",
    "import pandas as pd\n",
    "import copy"
   ]
  },
  {
   "cell_type": "markdown",
   "metadata": {},
   "source": [
    "## Numpy: зачем нужна ты сама примерно знаешь\n",
    "***Очень удобно, быстро и красиво работать с матрицами***"
   ]
  },
  {
   "cell_type": "code",
   "execution_count": 4,
   "metadata": {},
   "outputs": [
    {
     "data": {
      "text/plain": [
       "array([6., 7., 5., 8., 0., 1.])"
      ]
     },
     "execution_count": 4,
     "metadata": {},
     "output_type": "execute_result"
    }
   ],
   "source": [
    "# Как создать массив?\n",
    "x = [ 6, 7., 5, 8, 0, 1]\n",
    "arr = np.array(x) \n",
    "arr"
   ]
  },
  {
   "cell_type": "code",
   "execution_count": 5,
   "metadata": {},
   "outputs": [
    {
     "name": "stdout",
     "output_type": "stream",
     "text": [
      "[0 1 2 3 4]\n",
      "[0.+0.j 0.+0.j 0.+0.j 0.+0.j 0.+0.j]\n",
      "[-2.  -1.2 -0.4  0.4  1.2  2. ]\n",
      "\n",
      "[[1. 1. 1.]\n",
      " [1. 1. 1.]]\n",
      "\n",
      "[[1. 0. 0.]\n",
      " [0. 1. 0.]\n",
      " [0. 0. 1.]]\n"
     ]
    }
   ],
   "source": [
    "# Можно так:\n",
    "print( np.arange(5) )\n",
    "print( np.zeros(5, dtype='complex') ) # dtype -> тип значений, которые хранит массив\n",
    "print( np.linspace(-2, 2, 6) ) # 6 значений в равномерно интервале [-2, 2]\n",
    "print()\n",
    "print( np.ones((2, 3)) ) # Обрати внимание на двойные скобки: многомерный массив создается из tuple\n",
    "print()\n",
    "print( np.eye(3) )"
   ]
  },
  {
   "cell_type": "markdown",
   "metadata": {},
   "source": [
    "# Операции над массивами"
   ]
  },
  {
   "cell_type": "code",
   "execution_count": 116,
   "metadata": {},
   "outputs": [],
   "source": [
    "arr1 = np.array([[1., 2., 3.], [2., 3., 4.]]) \n",
    "arr2 = np.array([[3., 4., 5.], [4., 5., 6.]])"
   ]
  },
  {
   "cell_type": "code",
   "execution_count": 117,
   "metadata": {},
   "outputs": [
    {
     "data": {
      "text/plain": [
       "array([[11., 12., 13.],\n",
       "       [12., 13., 14.]])"
      ]
     },
     "execution_count": 117,
     "metadata": {},
     "output_type": "execute_result"
    }
   ],
   "source": [
    "arr1 + 10"
   ]
  },
  {
   "cell_type": "code",
   "execution_count": 118,
   "metadata": {},
   "outputs": [
    {
     "data": {
      "text/plain": [
       "array([[ 4.,  6.,  8.],\n",
       "       [ 6.,  8., 10.]])"
      ]
     },
     "execution_count": 118,
     "metadata": {},
     "output_type": "execute_result"
    }
   ],
   "source": [
    "arr1 + arr2"
   ]
  },
  {
   "cell_type": "code",
   "execution_count": 122,
   "metadata": {},
   "outputs": [
    {
     "data": {
      "text/plain": [
       "array([[ 3.,  8., 15.],\n",
       "       [ 8., 15., 24.]])"
      ]
     },
     "execution_count": 122,
     "metadata": {},
     "output_type": "execute_result"
    }
   ],
   "source": [
    "arr1 * arr2 # Поэлементное умножение"
   ]
  },
  {
   "cell_type": "code",
   "execution_count": 126,
   "metadata": {},
   "outputs": [
    {
     "name": "stdout",
     "output_type": "stream",
     "text": [
      "2.5\n",
      "0.9574271077563381\n",
      "[3. 4.]\n",
      "[2 2]\n",
      "[3. 5. 7.]\n",
      "[ 1.  3.  6.  8. 11. 15.]\n",
      "\n",
      "[[0 1 2]\n",
      " [0 1 2]]\n"
     ]
    }
   ],
   "source": [
    "print(arr1.mean())\n",
    "print(arr1.std())\n",
    "print(arr1.max(axis=1)) # по какому измерению считать\n",
    "print(arr1.argmax(axis=1)) # индекс, на котором достигается максимум\n",
    "print(arr1.sum(axis=0))\n",
    "print(arr1.cumsum())\n",
    "print()\n",
    "print(arr1.argsort(axis=1)) # есть еще просто sort"
   ]
  },
  {
   "cell_type": "code",
   "execution_count": 10,
   "metadata": {},
   "outputs": [
    {
     "data": {
      "text/plain": [
       "array([[26., 32.],\n",
       "       [38., 47.]])"
      ]
     },
     "execution_count": 10,
     "metadata": {},
     "output_type": "execute_result"
    }
   ],
   "source": [
    "# array.T -> Транспонирование\n",
    "np.matmul(arr1, arr2.T) # Матричное умножение\n",
    "# np.dot(arr1, arr2.T) # По факту то же самое, но по семантике -> скалярное произведение"
   ]
  },
  {
   "cell_type": "code",
   "execution_count": 47,
   "metadata": {},
   "outputs": [
    {
     "data": {
      "text/plain": [
       "array([[1., 2., 3., 2., 3., 4.]])"
      ]
     },
     "execution_count": 47,
     "metadata": {},
     "output_type": "execute_result"
    }
   ],
   "source": [
    "arr1.reshape(1, 6)\n",
    "# arr1.reshape(1, -1) # -1, если этот параметр должен быть подобран автоматически"
   ]
  },
  {
   "cell_type": "code",
   "execution_count": 12,
   "metadata": {},
   "outputs": [
    {
     "name": "stdout",
     "output_type": "stream",
     "text": [
      "(2, 3)\n",
      "6\n"
     ]
    }
   ],
   "source": [
    "print(arr1.shape) # размер массива по измерениям\n",
    "print(arr1.size) # Полный размер массива"
   ]
  },
  {
   "cell_type": "code",
   "execution_count": 13,
   "metadata": {},
   "outputs": [
    {
     "name": "stdout",
     "output_type": "stream",
     "text": [
      "[0 1 2 3 4 5 6 7 8 9]\n",
      "[1, 5, 3, 1, 1, 1, 9, 6]\n",
      "[1 5 3 1 1 1 9 6]\n"
     ]
    }
   ],
   "source": [
    "# Индексирование: \n",
    "# Мне кажется это и с обычными списками работает, когда научишься пользоваться - очень полезно\n",
    "arr = np.arange(10)\n",
    "print(arr)\n",
    "indexes = [1, 5, 3, 1, 1, 1, 9, 6]\n",
    "print(indexes)\n",
    "\n",
    "print(arr[indexes]) # Круто?"
   ]
  },
  {
   "cell_type": "markdown",
   "metadata": {},
   "source": [
    "# Задание 1\n",
    "***Написать функцию для нахождения определитеня матрицы методом Гаусса***"
   ]
  },
  {
   "cell_type": "code",
   "execution_count": 14,
   "metadata": {},
   "outputs": [],
   "source": [
    "# Не пользоваться np.linalg.det # Да, нелогично, я же тебя учу библиотеке, но начнем с малого\n",
    "# Пользоваться операциями C массивами (строками)\n",
    "def determinant(X_given):\n",
    "    X = copy.deepcopy(X_given) # мы же не хотим испортить ту матрицу\n",
    "    det = 1\n",
    "    \n",
    "    # Your code here\n",
    "    # ...\n",
    "    \n",
    "    return det"
   ]
  },
  {
   "cell_type": "markdown",
   "metadata": {},
   "source": [
    "***Написать функцию для нахождения решения системы уравнений используя матричные операции***"
   ]
  },
  {
   "cell_type": "code",
   "execution_count": 46,
   "metadata": {},
   "outputs": [],
   "source": [
    "def eq_system_solution(a, b):\n",
    "    # Так можно писать документацию к функции\n",
    "    \"\"\"\n",
    "    Нахидт решение системы линейных уравнений Ax = b c невырожденной матрицей A\n",
    "    Результат: вектор x -> решение системы\n",
    "    \"\"\"\n",
    "    # Может ли тебе пригодиться предыдущая функция?\n",
    "    # Не забывай работать с матрицами, можно использовать всё\n",
    "    \n",
    "    # Your code here\n",
    "    # ...\n",
    "    \n",
    "    return 0"
   ]
  },
  {
   "cell_type": "code",
   "execution_count": 43,
   "metadata": {},
   "outputs": [],
   "source": [
    "# np.linalg - это отдельный модуль, в котором есть работа с матрицами и многое из линейное алгебры\n",
    "# Часто может пригодиться"
   ]
  },
  {
   "cell_type": "markdown",
   "metadata": {},
   "source": [
    "# Библиотека Pandas\n",
    "## Pandas.Series"
   ]
  },
  {
   "cell_type": "code",
   "execution_count": 56,
   "metadata": {},
   "outputs": [
    {
     "name": "stdout",
     "output_type": "stream",
     "text": [
      "0    5\n",
      "1    6\n",
      "2    7\n",
      "3    8\n",
      "4    9\n",
      "dtype: int64\n"
     ]
    },
    {
     "data": {
      "text/plain": [
       "array([5, 6, 7, 8, 9])"
      ]
     },
     "execution_count": 56,
     "metadata": {},
     "output_type": "execute_result"
    }
   ],
   "source": [
    "s1 = pd.Series([5, 6, 7, 8, 9])\n",
    "print(s1)\n",
    "\n",
    "s1.values # перевод в np.array"
   ]
  },
  {
   "cell_type": "markdown",
   "metadata": {},
   "source": [
    "***Первый столбец: индексы, второй: значения***  \n",
    "То есть чем-то похоже на упорядоченный словарь"
   ]
  },
  {
   "cell_type": "code",
   "execution_count": 57,
   "metadata": {},
   "outputs": [
    {
     "data": {
      "text/plain": [
       "a     5\n",
       "b     6\n",
       "c     7\n",
       "d     8\n",
       "e     9\n",
       "f    10\n",
       "dtype: int64"
      ]
     },
     "execution_count": 57,
     "metadata": {},
     "output_type": "execute_result"
    }
   ],
   "source": [
    "s2 = pd.Series([5, 6, 7, 8, 9, 10], index=['a', 'b', 'c', 'd', 'e', 'f'])\n",
    "s2\n",
    "# можно явно задавать индексы"
   ]
  },
  {
   "cell_type": "markdown",
   "metadata": {},
   "source": [
    "## Pandas.Dataframe\n",
    "***Таблица, состаящая из различных пар: Название столбца, pd.Series***"
   ]
  },
  {
   "cell_type": "code",
   "execution_count": 58,
   "metadata": {},
   "outputs": [
    {
     "data": {
      "text/html": [
       "<div>\n",
       "<style scoped>\n",
       "    .dataframe tbody tr th:only-of-type {\n",
       "        vertical-align: middle;\n",
       "    }\n",
       "\n",
       "    .dataframe tbody tr th {\n",
       "        vertical-align: top;\n",
       "    }\n",
       "\n",
       "    .dataframe thead th {\n",
       "        text-align: right;\n",
       "    }\n",
       "</style>\n",
       "<table border=\"1\" class=\"dataframe\">\n",
       "  <thead>\n",
       "    <tr style=\"text-align: right;\">\n",
       "      <th></th>\n",
       "      <th>country</th>\n",
       "      <th>population</th>\n",
       "      <th>square</th>\n",
       "    </tr>\n",
       "  </thead>\n",
       "  <tbody>\n",
       "    <tr>\n",
       "      <th>0</th>\n",
       "      <td>Kazakhstan</td>\n",
       "      <td>17.04</td>\n",
       "      <td>2724902</td>\n",
       "    </tr>\n",
       "    <tr>\n",
       "      <th>1</th>\n",
       "      <td>Russia</td>\n",
       "      <td>143.50</td>\n",
       "      <td>17125191</td>\n",
       "    </tr>\n",
       "    <tr>\n",
       "      <th>2</th>\n",
       "      <td>Belarus</td>\n",
       "      <td>9.50</td>\n",
       "      <td>207600</td>\n",
       "    </tr>\n",
       "    <tr>\n",
       "      <th>3</th>\n",
       "      <td>Ukraine</td>\n",
       "      <td>45.50</td>\n",
       "      <td>603628</td>\n",
       "    </tr>\n",
       "  </tbody>\n",
       "</table>\n",
       "</div>"
      ],
      "text/plain": [
       "      country  population    square\n",
       "0  Kazakhstan       17.04   2724902\n",
       "1      Russia      143.50  17125191\n",
       "2     Belarus        9.50    207600\n",
       "3     Ukraine       45.50    603628"
      ]
     },
     "execution_count": 58,
     "metadata": {},
     "output_type": "execute_result"
    }
   ],
   "source": [
    "df = pd.DataFrame({\n",
    "    'country': ['Kazakhstan', 'Russia', 'Belarus', 'Ukraine'],\n",
    "    'population': [17.04, 143.5, 9.5, 45.5],\n",
    "    'square': [2724902, 17125191, 207600, 603628]\n",
    "})\n",
    "df"
   ]
  },
  {
   "cell_type": "code",
   "execution_count": 60,
   "metadata": {},
   "outputs": [
    {
     "name": "stdout",
     "output_type": "stream",
     "text": [
      "0    Kazakhstan\n",
      "1        Russia\n",
      "2       Belarus\n",
      "3       Ukraine\n",
      "Name: country, dtype: object\n",
      "0    Kazakhstan\n",
      "1        Russia\n",
      "2       Belarus\n",
      "3       Ukraine\n",
      "Name: country, dtype: object\n"
     ]
    }
   ],
   "source": [
    "# обращение:\n",
    "print(df.country)\n",
    "# или так\n",
    "print(df['country'])"
   ]
  },
  {
   "cell_type": "code",
   "execution_count": 65,
   "metadata": {},
   "outputs": [
    {
     "data": {
      "text/html": [
       "<div>\n",
       "<style scoped>\n",
       "    .dataframe tbody tr th:only-of-type {\n",
       "        vertical-align: middle;\n",
       "    }\n",
       "\n",
       "    .dataframe tbody tr th {\n",
       "        vertical-align: top;\n",
       "    }\n",
       "\n",
       "    .dataframe thead th {\n",
       "        text-align: right;\n",
       "    }\n",
       "</style>\n",
       "<table border=\"1\" class=\"dataframe\">\n",
       "  <thead>\n",
       "    <tr style=\"text-align: right;\">\n",
       "      <th></th>\n",
       "      <th>population</th>\n",
       "      <th>square</th>\n",
       "    </tr>\n",
       "  </thead>\n",
       "  <tbody>\n",
       "    <tr>\n",
       "      <th>0</th>\n",
       "      <td>17.04</td>\n",
       "      <td>2724902</td>\n",
       "    </tr>\n",
       "    <tr>\n",
       "      <th>1</th>\n",
       "      <td>143.50</td>\n",
       "      <td>17125191</td>\n",
       "    </tr>\n",
       "  </tbody>\n",
       "</table>\n",
       "</div>"
      ],
      "text/plain": [
       "   population    square\n",
       "0       17.04   2724902\n",
       "1      143.50  17125191"
      ]
     },
     "execution_count": 65,
     "metadata": {},
     "output_type": "execute_result"
    }
   ],
   "source": [
    "df.iloc[0:2, 1:3] # Возвращает \"суб-таблицу\" из данних строк, столбцов"
   ]
  },
  {
   "cell_type": "code",
   "execution_count": 73,
   "metadata": {},
   "outputs": [
    {
     "data": {
      "text/html": [
       "<div>\n",
       "<style scoped>\n",
       "    .dataframe tbody tr th:only-of-type {\n",
       "        vertical-align: middle;\n",
       "    }\n",
       "\n",
       "    .dataframe tbody tr th {\n",
       "        vertical-align: top;\n",
       "    }\n",
       "\n",
       "    .dataframe thead th {\n",
       "        text-align: right;\n",
       "    }\n",
       "</style>\n",
       "<table border=\"1\" class=\"dataframe\">\n",
       "  <thead>\n",
       "    <tr style=\"text-align: right;\">\n",
       "      <th></th>\n",
       "      <th>country</th>\n",
       "      <th>population</th>\n",
       "      <th>square</th>\n",
       "    </tr>\n",
       "  </thead>\n",
       "  <tbody>\n",
       "    <tr>\n",
       "      <th>1</th>\n",
       "      <td>Russia</td>\n",
       "      <td>143.5</td>\n",
       "      <td>17125191</td>\n",
       "    </tr>\n",
       "    <tr>\n",
       "      <th>3</th>\n",
       "      <td>Ukraine</td>\n",
       "      <td>45.5</td>\n",
       "      <td>603628</td>\n",
       "    </tr>\n",
       "  </tbody>\n",
       "</table>\n",
       "</div>"
      ],
      "text/plain": [
       "   country  population    square\n",
       "1   Russia       143.5  17125191\n",
       "3  Ukraine        45.5    603628"
      ]
     },
     "execution_count": 73,
     "metadata": {},
     "output_type": "execute_result"
    }
   ],
   "source": [
    "df.iloc[[1, 3], [0, 1, 2]] # или так"
   ]
  },
  {
   "cell_type": "code",
   "execution_count": 75,
   "metadata": {},
   "outputs": [],
   "source": [
    "# чтение файлов\n",
    "# df = pd.read_csv('file/path')\n",
    "# df = pd.read_excel('file/path')"
   ]
  },
  {
   "cell_type": "code",
   "execution_count": 77,
   "metadata": {},
   "outputs": [],
   "source": [
    "# Куча разных функций, лучше выучить по мере необходимости, можно посмотреть в лекции из техносферы\n",
    "# Вообще сложно выучить эту библиотеку так сразу, лучше на опыте научиться"
   ]
  }
 ],
 "metadata": {
  "kernelspec": {
   "display_name": "Python 3",
   "language": "python",
   "name": "python3"
  },
  "language_info": {
   "codemirror_mode": {
    "name": "ipython",
    "version": 3
   },
   "file_extension": ".py",
   "mimetype": "text/x-python",
   "name": "python",
   "nbconvert_exporter": "python",
   "pygments_lexer": "ipython3",
   "version": "3.6.5"
  }
 },
 "nbformat": 4,
 "nbformat_minor": 2
}

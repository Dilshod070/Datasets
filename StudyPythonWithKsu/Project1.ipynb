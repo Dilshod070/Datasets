{
 "cells": [
  {
   "cell_type": "markdown",
   "metadata": {},
   "source": [
    "# Калькулятор  \n",
    "(реализация с помощью рекурсивного спуска)"
   ]
  },
  {
   "cell_type": "markdown",
   "metadata": {},
   "source": [
    "***Как это будет работать?***  \n",
    "Вход: строка  \n",
    "Выход: вычисленное выражение или ошибка\n"
   ]
  },
  {
   "cell_type": "markdown",
   "metadata": {},
   "source": [
    "***Как он будет устроен?*** (в общих чертах, подробнее тебе надо будет самой придумать)  \n",
    "Класс калькулятор: медот - count(str)  \n",
    "\n",
    "Этот метод в 5(или меньше) этапов будет анализировать строку  \n",
    "+ Лексический анализ  \n",
    "+ Синтаксический анализ  \n",
    "+ Семантический анализ  \n",
    "+ Перевод во внутреннее представление  \n",
    "+ Вычисление  "
   ]
  },
  {
   "cell_type": "code",
   "execution_count": null,
   "metadata": {},
   "outputs": [],
   "source": [
    "# Примерное использование\n",
    "# K = Calculator()\n",
    "# K.count(\"1+2\")"
   ]
  },
  {
   "cell_type": "markdown",
   "metadata": {},
   "source": [
    "## Первый этап: Лексический анализ"
   ]
  },
  {
   "cell_type": "markdown",
   "metadata": {},
   "source": [
    "Вход: строка  \n",
    "Выход (простой случай): Список, составленный из лексемм (числе или знаков)  \n",
    "Выход (как тебе надо сделать): Объект(генератор), который при каждом обращении будет возвращать следующую лексемму"
   ]
  },
  {
   "cell_type": "code",
   "execution_count": null,
   "metadata": {},
   "outputs": [],
   "source": [
    "# Пример: \"1+ -2 * 222 ++\" -> [1, '+', '-', 2, '*', 222, '+', '+']\n"
   ]
  },
  {
   "cell_type": "code",
   "execution_count": null,
   "metadata": {},
   "outputs": [],
   "source": []
  },
  {
   "cell_type": "code",
   "execution_count": null,
   "metadata": {},
   "outputs": [],
   "source": []
  },
  {
   "cell_type": "code",
   "execution_count": null,
   "metadata": {},
   "outputs": [],
   "source": []
  },
  {
   "cell_type": "code",
   "execution_count": null,
   "metadata": {},
   "outputs": [],
   "source": []
  }
 ],
 "metadata": {
  "kernelspec": {
   "display_name": "Python 3",
   "language": "python",
   "name": "python3"
  },
  "language_info": {
   "codemirror_mode": {
    "name": "ipython",
    "version": 3
   },
   "file_extension": ".py",
   "mimetype": "text/x-python",
   "name": "python",
   "nbconvert_exporter": "python",
   "pygments_lexer": "ipython3",
   "version": "3.6.5"
  }
 },
 "nbformat": 4,
 "nbformat_minor": 2
}

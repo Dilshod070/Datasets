{
 "cells": [
  {
   "cell_type": "markdown",
   "metadata": {},
   "source": [
    "# Домашнее задание 2  \n",
    "# Будем пытаться лучше изучить питон и некоторе библиотеки"
   ]
  },
  {
   "cell_type": "markdown",
   "metadata": {},
   "source": [
    "#### И снова полезные советы:  \n",
    "- Чтобы бычтро проитать документацию какой-нибудь функции: Shift + Tab\n",
    "- Можно посмотреть все доступные методы класса с помощью dir(...)\n",
    "- Быстро вывсти объект можно просто написав его в конце \n",
    "- - Если написать функцию, которая возвращает объект он тоже выведется\n",
    "- - Иногда так бывает отличие от вывода print-ом, но при этом нельзя вывести из середины кода"
   ]
  },
  {
   "cell_type": "code",
   "execution_count": 49,
   "metadata": {
    "scrolled": true
   },
   "outputs": [
    {
     "data": {
      "text/plain": [
       "['__abs__',\n",
       " '__add__',\n",
       " '__and__',\n",
       " '__bool__',\n",
       " '__ceil__',\n",
       " '__class__',\n",
       " '__delattr__',\n",
       " '__dir__',\n",
       " '__divmod__',\n",
       " '__doc__',\n",
       " '__eq__',\n",
       " '__float__',\n",
       " '__floor__',\n",
       " '__floordiv__',\n",
       " '__format__',\n",
       " '__ge__',\n",
       " '__getattribute__',\n",
       " '__getnewargs__',\n",
       " '__gt__',\n",
       " '__hash__',\n",
       " '__index__',\n",
       " '__init__',\n",
       " '__init_subclass__',\n",
       " '__int__',\n",
       " '__invert__',\n",
       " '__le__',\n",
       " '__lshift__',\n",
       " '__lt__',\n",
       " '__mod__',\n",
       " '__mul__',\n",
       " '__ne__',\n",
       " '__neg__',\n",
       " '__new__',\n",
       " '__or__',\n",
       " '__pos__',\n",
       " '__pow__',\n",
       " '__radd__',\n",
       " '__rand__',\n",
       " '__rdivmod__',\n",
       " '__reduce__',\n",
       " '__reduce_ex__',\n",
       " '__repr__',\n",
       " '__rfloordiv__',\n",
       " '__rlshift__',\n",
       " '__rmod__',\n",
       " '__rmul__',\n",
       " '__ror__',\n",
       " '__round__',\n",
       " '__rpow__',\n",
       " '__rrshift__',\n",
       " '__rshift__',\n",
       " '__rsub__',\n",
       " '__rtruediv__',\n",
       " '__rxor__',\n",
       " '__setattr__',\n",
       " '__sizeof__',\n",
       " '__str__',\n",
       " '__sub__',\n",
       " '__subclasshook__',\n",
       " '__truediv__',\n",
       " '__trunc__',\n",
       " '__xor__',\n",
       " 'bit_length',\n",
       " 'conjugate',\n",
       " 'denominator',\n",
       " 'from_bytes',\n",
       " 'imag',\n",
       " 'numerator',\n",
       " 'real',\n",
       " 'to_bytes']"
      ]
     },
     "execution_count": 49,
     "metadata": {},
     "output_type": "execute_result"
    }
   ],
   "source": [
    "dir(int)\n",
    "# Лучше, чем print(dir(int)), проверь сама\n",
    "\n",
    "# Либо так\n",
    "# x = 0\n",
    "# dir(x)"
   ]
  },
  {
   "cell_type": "code",
   "execution_count": 115,
   "metadata": {
    "scrolled": true
   },
   "outputs": [
    {
     "data": {
      "text/plain": [
       "9"
      ]
     },
     "execution_count": 115,
     "metadata": {},
     "output_type": "execute_result"
    }
   ],
   "source": [
    "xx = 5\n",
    "xx.__add__(4) # Можешь подумать теперь как реализована перегрузка оперторов"
   ]
  },
  {
   "cell_type": "markdown",
   "metadata": {},
   "source": [
    "# Итераторы в питоне  \n",
    "* Посмотрел твою перую домашку и думаю полезно научить тебя будет\n",
    "\n",
    "***Что это такое? (чем-то похожи на итераторы в С++, но отличаются)  ***"
   ]
  },
  {
   "cell_type": "code",
   "execution_count": 109,
   "metadata": {},
   "outputs": [
    {
     "name": "stdout",
     "output_type": "stream",
     "text": [
      "[1, 2, 3, 4, 5, 6, 7, 8, 9]\n"
     ]
    }
   ],
   "source": [
    "x = list(range(1, 10))\n",
    "print(x)"
   ]
  },
  {
   "cell_type": "code",
   "execution_count": 110,
   "metadata": {},
   "outputs": [
    {
     "name": "stdout",
     "output_type": "stream",
     "text": [
      "[1, 2, 3, 4, 5, 6, 7, 8, 9]\n",
      "[1, 2, 3, 4, 5, 6, 7, 8, 9]\n"
     ]
    }
   ],
   "source": [
    "tmp = []\n",
    "for i in range(len(x)): # Если у тебя возникает range(len(...)), то что-то не так\n",
    "    tmp.append(x[i])\n",
    "print(tmp)\n",
    "\n",
    "tmp = []\n",
    "for i in x: # Проблемы, а что если нужен индекс ?? Все равно не надо использовать 1 вариант\n",
    "    tmp.append(i)\n",
    "print(tmp)"
   ]
  },
  {
   "cell_type": "markdown",
   "metadata": {},
   "source": [
    "Постарайся понять в чем разница: \n",
    "- В первом случае $i$ - это int (на самом деле в первом случае мы тоже итерируемся, но только по списку в котором числа от 0 до len(x) - 1)  \n",
    "- Во втором случае мы $i$ это объекты, которые хранятся в списке(другом итерируемом объекте)"
   ]
  },
  {
   "cell_type": "code",
   "execution_count": 134,
   "metadata": {
    "scrolled": true
   },
   "outputs": [
    {
     "name": "stdout",
     "output_type": "stream",
     "text": [
      "[1, 2, 3, 4, 5, 6, 7, 8, 9]\n",
      "[(0, 1), (1, 2), (2, 3), (3, 4), (4, 5), (5, 6), (6, 7), (7, 8), (8, 9)] \n",
      "\n",
      "[1, 2, 3, 4, 5, 6, 7, 8, 9]\n"
     ]
    }
   ],
   "source": [
    "tmp = []\n",
    "tmp1 = []\n",
    "# курсор на функцию Shift + Tab, чтобы увидеть мини документацию\n",
    "# enumerate - это функция-генератор, о них похже расскажу, тоже полезно\n",
    "for i in enumerate(x): # enumerate возвращает кортеж (i, x[i])\n",
    "    tmp.append(i[1]) \n",
    "    tmp1.append(i) # чтобы явно это увидеть\n",
    "print(tmp)\n",
    "print(tmp1, '\\n')\n",
    "\n",
    "tmp = []\n",
    "for index, object_ in enumerate(x): # Вот так идеально с:\n",
    "    tmp.append(object_)\n",
    "print(tmp)"
   ]
  },
  {
   "cell_type": "markdown",
   "metadata": {},
   "source": [
    "с помощью '_' можно присваивать объекты, которые не нужны дальше\n",
    "- for _ , object_ in enumerate(x): если индекс не нужен или  \n",
    "- for index, _ in enumerate(x): если не нужен объект \n",
    "- Так же если что-то не нужно, то можно и использовать другие варианты выше, но range(len(...)) все равно плохо"
   ]
  },
  {
   "cell_type": "code",
   "execution_count": 112,
   "metadata": {},
   "outputs": [
    {
     "name": "stdout",
     "output_type": "stream",
     "text": [
      "allo c:\n"
     ]
    }
   ],
   "source": [
    "# можно итерироваться по строке \n",
    "# а еще по np.array, pd.Dataframe и много чему другому, что выглядит как массив\n",
    "tmp = \"\"\n",
    "for i, char in enumerate(\"allo c:\"):\n",
    "    tmp += char\n",
    "print(tmp)"
   ]
  },
  {
   "cell_type": "markdown",
   "metadata": {},
   "source": [
    "### Так, а теперь попробуем что-нибудь написать"
   ]
  },
  {
   "cell_type": "code",
   "execution_count": 34,
   "metadata": {},
   "outputs": [],
   "source": [
    "import numpy as np\n",
    "a = np.array(range(100)).reshape(10, 10)\n",
    "at = a.T\n",
    "\n",
    "# Найти произведение a * at (можно не использовать at если ты жесткая)\n",
    "# Нельзя использовать np.dot() и np.matmul()\n",
    "# Использовать итераторы и enumerate()\n",
    "def matmul_a_at(X, XT=None):\n",
    "    m = X.shape[0]\n",
    "    n = X.shape[1]\n",
    "    res = np.zeros((m, n))\n",
    "    \n",
    "    # Your code here\n",
    "    # ...\n",
    "    for i, x_i in enumerate(X):\n",
    "        for j, xt_j in enumerate(X):\n",
    "            for k in range(n):\n",
    "                res[i][j] += x_i[k] * xt_j[k]\n",
    "    return res"
   ]
  },
  {
   "cell_type": "code",
   "execution_count": 35,
   "metadata": {},
   "outputs": [
    {
     "data": {
      "text/plain": [
       "array([[  285.,   735.,  1185.,  1635.,  2085.,  2535.,  2985.,  3435.,\n",
       "         3885.,  4335.],\n",
       "       [  735.,  2185.,  3635.,  5085.,  6535.,  7985.,  9435., 10885.,\n",
       "        12335., 13785.],\n",
       "       [ 1185.,  3635.,  6085.,  8535., 10985., 13435., 15885., 18335.,\n",
       "        20785., 23235.],\n",
       "       [ 1635.,  5085.,  8535., 11985., 15435., 18885., 22335., 25785.,\n",
       "        29235., 32685.],\n",
       "       [ 2085.,  6535., 10985., 15435., 19885., 24335., 28785., 33235.,\n",
       "        37685., 42135.],\n",
       "       [ 2535.,  7985., 13435., 18885., 24335., 29785., 35235., 40685.,\n",
       "        46135., 51585.],\n",
       "       [ 2985.,  9435., 15885., 22335., 28785., 35235., 41685., 48135.,\n",
       "        54585., 61035.],\n",
       "       [ 3435., 10885., 18335., 25785., 33235., 40685., 48135., 55585.,\n",
       "        63035., 70485.],\n",
       "       [ 3885., 12335., 20785., 29235., 37685., 46135., 54585., 63035.,\n",
       "        71485., 79935.],\n",
       "       [ 4335., 13785., 23235., 32685., 42135., 51585., 61035., 70485.,\n",
       "        79935., 89385.]])"
      ]
     },
     "execution_count": 35,
     "metadata": {},
     "output_type": "execute_result"
    }
   ],
   "source": [
    "matmul_a_at(a)"
   ]
  },
  {
   "cell_type": "markdown",
   "metadata": {},
   "source": [
    "# Генераторы в Питоне\n",
    "***Замечательная штука, которой в С++ нет аналога***\n",
    "- Генератор, как несложно догадаться Генерирует объект\n",
    "- - Вообще они позволяют не хранить все в памяти а создавать объект, когда он пригодится\n",
    "- - Но на бытовом уровне чаще используются, потому что выглядят красиво"
   ]
  },
  {
   "cell_type": "code",
   "execution_count": 38,
   "metadata": {},
   "outputs": [
    {
     "name": "stdout",
     "output_type": "stream",
     "text": [
      "[1, 2, 3, 4, 5, 6, 7, 8, 9]\n"
     ]
    }
   ],
   "source": [
    "x = list(range(1, 10))\n",
    "\n",
    "# Вернемся к старому примеру:\n",
    "# tmp = []\n",
    "# for index, object_ in enumerate(x):\n",
    "#     tmp.append(object_)\n",
    "# print(tmp)\n",
    "\n",
    "# Можно переписать его так\n",
    "print(list(x[index - 1] for index in range(1, 10))) # Круто?"
   ]
  },
  {
   "cell_type": "markdown",
   "metadata": {},
   "source": [
    "***Разберемся, как это работает с:***\n",
    "- Главное: это генератор, значит нужно явно преобразовать его к списку(другому объекту)\n",
    "- - с помощью list( ) или [ ]  (первое более читаемо)\n",
    "- Сначала пишется генерируемое значение\n",
    "- Потом for и итерация по какому-то объекту\n",
    "- Потом условие, если оно есть (типа фильтр, который генерирует только объекты из подходящих объектов)"
   ]
  },
  {
   "cell_type": "code",
   "execution_count": 39,
   "metadata": {},
   "outputs": [
    {
     "name": "stdout",
     "output_type": "stream",
     "text": [
      "[9, 49]\n",
      "{1: 0, 2: 1, 3: 2, 4: 3, 5: 4, 6: 5, 7: 6, 8: 7, 9: 8}\n",
      "<generator object <genexpr> at 0x10dd4b830>\n"
     ]
    }
   ],
   "source": [
    "print(list(index ** 2 for index, object_ in enumerate(x) if object_ % 4 == 0)) # Еще круче\n",
    "## Почему не [16, 64] ?\n",
    "print(dict((key, index) for index, key in enumerate(x))) # Можно приводить не только к list\n",
    "print((index for index in x)) # что будет если не привести к типу"
   ]
  },
  {
   "cell_type": "markdown",
   "metadata": {},
   "source": [
    "# Задание 2\n",
    "***С помощью генераторов создай следующие преобразованя:***"
   ]
  },
  {
   "cell_type": "code",
   "execution_count": 172,
   "metadata": {},
   "outputs": [],
   "source": [
    "# [1, 2, 3 ,4] -> [1, 8, 27, 64]\n",
    "# [0, 1, 2, 3, 4, 5, 6, 7, 8] -> ('0', '2', '4', '6', '8')   <- это tuple( ) из str( )\n",
    "# [0, 1, 2, 3, 4, 5, 6, 7, 8] -> {0: 1, 1: -2, 2: 4, 3: -8, 4: 16, 5: -32, 6: 64, 7: -128, 8: 256}\n",
    "# 'alLo c: 123aBc' -> 'allocabc'\n",
    "# '1 23 0030 42 53 612 75 -8 1009' -> [1, 23, 30, 42, 53, 612, 75, -8, 1009]\n",
    "# # Посмотри какие методы естьe str, и найди тот, который тебе поможет\n",
    "# ['123', '456'] -> ['1', '2', '3', '4', '5', '6']\n",
    "# # Вложенные генераторы?"
   ]
  },
  {
   "cell_type": "code",
   "execution_count": 82,
   "metadata": {},
   "outputs": [
    {
     "name": "stdout",
     "output_type": "stream",
     "text": [
      "[1, 8, 27, 64]\n",
      "('0', '2', '4', '6', '8')\n",
      "{0: 1, 1: -2, 2: 4, 3: -8, 4: 16, 5: -32, 6: 64, 7: -128, 8: 256}\n",
      "allocabc\n",
      "['1', '2', '3', '4', '5', '6']\n"
     ]
    }
   ],
   "source": [
    "# Your code here\n",
    "# ...\n",
    "x = [1, 2, 3, 4]\n",
    "s = 'alLo c: 123aBc'\n",
    "print(list(i**3 for i in x))\n",
    "print(tuple(str(i) for i in range(9) if i % 2 == 0))\n",
    "print(dict((i, (-2)**i) for i in range(9)))\n",
    "print(''.join(i.lower() for i in s if i.isalpha()))\n",
    "print(list(i for j in ['123', '456'] for i in j))"
   ]
  },
  {
   "cell_type": "code",
   "execution_count": 73,
   "metadata": {},
   "outputs": [
    {
     "data": {
      "text/plain": [
       "\"['1', '2']\""
      ]
     },
     "execution_count": 73,
     "metadata": {},
     "output_type": "execute_result"
    }
   ],
   "source": [
    "ll = ['1', '2']\n",
    "str(ll)"
   ]
  },
  {
   "cell_type": "markdown",
   "metadata": {},
   "source": [
    "# Функции генераторы"
   ]
  },
  {
   "cell_type": "markdown",
   "metadata": {},
   "source": [
    "***Вряд ли тебе пригодятся в скором будующем, поэтому кратко*** \n",
    "- Представь функцию, которая должна вернуть какой-то список из n элементов, но используются они все по очереди потом\n",
    "- Можно сделать так, чтобы функция просто n раз возвращала одно значение, чтобы не храить остальное в памяти\n",
    "- Разница в том, что вместо return пишешь yield. тогда функция возвращает значение, но продолжает выполняться"
   ]
  },
  {
   "cell_type": "code",
   "execution_count": 8,
   "metadata": {},
   "outputs": [],
   "source": [
    "def gen_ints(max_num=5):\n",
    "    for i in range(max_num):\n",
    "        yield i"
   ]
  },
  {
   "cell_type": "code",
   "execution_count": 15,
   "metadata": {},
   "outputs": [
    {
     "name": "stdout",
     "output_type": "stream",
     "text": [
      "10\n",
      "\n",
      "\n",
      "0\n",
      "1\n",
      "2\n",
      "3\n",
      "4\n"
     ]
    }
   ],
   "source": [
    "# Как теперь это использовать?\n",
    "# 2 вариата\n",
    "# Так:\n",
    "ints = gen_ints() # Получили итератор по функции генератору\n",
    "\n",
    "sum_ = 0\n",
    "for i in ints:\n",
    "    sum_ += i\n",
    "print(sum_)\n",
    "\n",
    "# Либо так:\n",
    "ints = gen_ints()\n",
    "print('\\n')\n",
    "print(next(ints)) # next можно применять и к обычным итераторам\n",
    "print(next(ints))\n",
    "print(next(ints))\n",
    "print(next(ints))\n",
    "print(next(ints))\n",
    "# print(next(ints)) <- Ошибка, функция завешилась => объекты закончились"
   ]
  },
  {
   "cell_type": "markdown",
   "metadata": {},
   "source": [
    "# Задание 3\n",
    "***Написать функцию-генератор, генерирующую числа Фибоначчи***  \n",
    "*Делать не обязательно, только если тебе интересно*"
   ]
  },
  {
   "cell_type": "code",
   "execution_count": 17,
   "metadata": {},
   "outputs": [],
   "source": [
    "# Your code here\n",
    "# ..."
   ]
  }
 ],
 "metadata": {
  "kernelspec": {
   "display_name": "Python 3",
   "language": "python",
   "name": "python3"
  },
  "language_info": {
   "codemirror_mode": {
    "name": "ipython",
    "version": 3
   },
   "file_extension": ".py",
   "mimetype": "text/x-python",
   "name": "python",
   "nbconvert_exporter": "python",
   "pygments_lexer": "ipython3",
   "version": "3.6.5"
  }
 },
 "nbformat": 4,
 "nbformat_minor": 2
}
